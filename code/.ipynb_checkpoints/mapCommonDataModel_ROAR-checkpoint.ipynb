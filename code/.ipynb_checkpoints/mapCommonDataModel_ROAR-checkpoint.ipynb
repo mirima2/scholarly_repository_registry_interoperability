{
 "cells": [
  {
   "cell_type": "code",
   "execution_count": 23,
   "id": "7ae3fc93-fd60-4328-a829-92c0bb1ffb7f",
   "metadata": {},
   "outputs": [],
   "source": [
    "import json\n",
    "import xml.etree.cElementTree as ET\n",
    "import csv"
   ]
  },
  {
   "cell_type": "code",
   "execution_count": 24,
   "id": "5c27b1c9-6fb8-4805-8239-fdf3d0a6cc74",
   "metadata": {},
   "outputs": [],
   "source": [
    "fs = open('/Users/gina/Documents/export_roar_CSV_20230131.csv')\n",
    "lines = fs.read().split('\\n')"
   ]
  },
  {
   "cell_type": "code",
   "execution_count": 25,
   "id": "f96b77af-ffff-43df-af40-8a38bae86fd1",
   "metadata": {},
   "outputs": [
    {
     "name": "stdout",
     "output_type": "stream",
     "text": [
      "['\"eprintid\"', '\"rev_number\"', '\"eprint_status\"', '\"userid\"', '\"importid\"', '\"source\"', '\"dir\"', '\"datestamp\"', '\"lastmod\"', '\"status_changed\"', '\"type\"', '\"succeeds\"', '\"commentary\"', '\"metadata_visibility\"', '\"latitude\"', '\"longitude\"', '\"relation_type\"', '\"relation_uri\"', '\"item_issues_id\"', '\"item_issues_type\"', '\"item_issues_description\"', '\"item_issues_timestamp\"', '\"item_issues_status\"', '\"item_issues_reported_by\"', '\"item_issues_resolved_by\"', '\"item_issues_comment\"', '\"item_issues_count\"', '\"sword_depositor\"', '\"sword_slug\"', '\"exemplar\"', '\"home_page\"', '\"title\"', '\"oai_pmh\"', '\"sword_endpoint\"', '\"rss_feed\"', '\"twitter_feed\"', '\"description\"', '\"fulltext\"', '\"open_access\"', '\"mandate\"', '\"organisation_title\"', '\"organisation_home_page\"', '\"location_country\"', '\"location_city\"', '\"location_latitude\"', '\"location_longitude\"', '\"software\"', '\"geoname\"', '\"version\"', '\"subjects\"', '\"date\"', '\"note\"', '\"suggestions\"', '\"activity_low\"', '\"activity_medium\"', '\"activity_high\"', '\"recordcount\"', '\"recordhistory\"', '\"fulltexts_total\"', '\"fulltexts_docs\"', '\"fulltexts_rtotal\"', '\"fulltexts_rdocs\"', '\"registry_name\"', '\"registry_id\"', '\"submit_to\"', '\"submitted_to_name\"', '\"submitted_to_done\"', '\"webometrics_rank\"', '\"webometrics_size\"', '\"webometrics_visibility\"', '\"webometrics_rich_files\"', '\"webometrics_scholar\"', '\"monthly_deposits\"', '\"total_deposits\"', '\"association\"']\n"
     ]
    }
   ],
   "source": [
    "headers = lines[0].split(',')\n",
    "print(headers)"
   ]
  },
  {
   "cell_type": "code",
   "execution_count": 32,
   "id": "48ceb1b4-ad79-4923-b153-22b78346b42e",
   "metadata": {},
   "outputs": [],
   "source": [
    "def roarMap(csv_file):\n",
    "    with open(csv_file, 'r') as f:\n",
    "        reader = csv.DictReader(f)\n",
    "        for row in reader:\n",
    "            entry = ET.Element(\"registryEntry\")\n",
    "            if 'eprintid' in row and row['eprintid'] != \"\":\n",
    "                ET.SubElement(entry, 'internalIdentifier').text = str(row['eprintid'])\n",
    "            #Roar ha solo l'eprintid\n",
    "            if 'title' in row and row['title'] != '':\n",
    "                ET.SubElement(entry,'name').text = str(row['title'])\n",
    "            if 'home_page' in row and row['home_page'] != '':\n",
    "                ET.SubElement(entry,'url').text = str(row['home_page'])\n",
    "            if 'type' in row and row['type'] != '':\n",
    "                ET.SubElement(entry,'type').text = str(row['type'])\n",
    "            if 'description' in row and row['description'] != '':\n",
    "                ET.SubElement(entry,'description').text = str(row['description']).strip()\n",
    "            if 'recordcount' in row and row['recordcount'] != '':\n",
    "                ET.SubElement(entry,'recordCount').text = str(row['recordcount'])\n",
    "            if 'subjects' in row and row['subjects'] != '':\n",
    "                subjects_list = row['subjects'].split(',')\n",
    "                for sub in subjects_list:\n",
    "                    ET.SubElement(entry, 'subject').text = sub.strip()\n",
    "            if 'organisation_title' in row and row['organisation_title'] != []:\n",
    "                organization = ET.Element(\"organization\")\n",
    "                ET.SubElement(entry,\"organization\").text = row['organisation_title']\n",
    "                if 'location_country' in row and row['location_country'] != '':\n",
    "                    country = ET.SubElement(organization, 'country')\n",
    "                    country.text = row['location_country']\n",
    "                if 'organisation_home_page' in row and row['organisation_home_page'] != '':\n",
    "                    organizationUrl = ET.SubElement(organization, 'organizationUrl')\n",
    "                    organizationUrl.text = row['organisation_home_page'].strip()\n",
    "                    entry.append(organization) #ET.SubElement(entry, organization)\n",
    "            if 'software' in row and row['software'] != '':\n",
    "                ET.SubElement(entry,'softwareName').text = str(row['software'])\n",
    "            if 'oai_pmh' in row and row ['oai_pmh'] != '':\n",
    "                ET.SubElement(entry,'apiUrl').text = str(row['oai_pmh'])\n",
    "            if 'date' in row and row ['date'] != '':\n",
    "                ET.SubElement(entry,'startDate', format = \"YYYY\").text = str(row['date'])\n",
    "            if 'lastmod' in row and row ['lastmod'] != '':\n",
    "                ET.SubElement(entry,'updateDate', format = \"YYYY\").text = str(row['lastmod'])\n",
    "\n",
    "            return entry\n",
    "           \n"
   ]
  },
  {
   "cell_type": "code",
   "execution_count": 31,
   "id": "a89b5ebd-f158-4526-9214-1ad2a888682e",
   "metadata": {},
   "outputs": [
    {
     "ename": "OSError",
     "evalue": "[Errno 63] File name too long: '\"eprintid\",\"rev_number\",\"eprint_status\",\"userid\",\"importid\",\"source\",\"dir\",\"datestamp\",\"lastmod\",\"status_changed\",\"type\",\"succeeds\",\"commentary\",\"metadata_visibility\",\"latitude\",\"longitude\",\"relation_type\",\"relation_uri\",\"item_issues_id\",\"item_issues_type\",\"item_issues_description\",\"item_issues_timestamp\",\"item_issues_status\",\"item_issues_reported_by\",\"item_issues_resolved_by\",\"item_issues_comment\",\"item_issues_count\",\"sword_depositor\",\"sword_slug\",\"exemplar\",\"home_page\",\"title\",\"oai_pmh\",\"sword_endpoint\",\"rss_feed\",\"twitter_feed\",\"description\",\"fulltext\",\"open_access\",\"mandate\",\"organisation_title\",\"organisation_home_page\",\"location_country\",\"location_city\",\"location_latitude\",\"location_longitude\",\"software\",\"geoname\",\"version\",\"subjects\",\"date\",\"note\",\"suggestions\",\"activity_low\",\"activity_medium\",\"activity_high\",\"recordcount\",\"recordhistory\",\"fulltexts_total\",\"fulltexts_docs\",\"fulltexts_rtotal\",\"fulltexts_rdocs\",\"registry_name\",\"registry_id\",\"submit_to\",\"submitted_to_name\",\"submitted_to_done\",\"webometrics_rank\",\"webometrics_size\",\"webometrics_visibility\",\"webometrics_rich_files\",\"webometrics_scholar\",\"monthly_deposits\",\"total_deposits\",\"association\"'",
     "output_type": "error",
     "traceback": [
      "\u001b[0;31m---------------------------------------------------------------------------\u001b[0m",
      "\u001b[0;31mOSError\u001b[0m                                   Traceback (most recent call last)",
      "Cell \u001b[0;32mIn[31], line 6\u001b[0m\n\u001b[1;32m      4\u001b[0m \u001b[38;5;28;01mif\u001b[39;00m line \u001b[38;5;241m==\u001b[39m \u001b[38;5;124m\"\u001b[39m\u001b[38;5;124m\"\u001b[39m:\n\u001b[1;32m      5\u001b[0m     \u001b[38;5;28;01mcontinue\u001b[39;00m\n\u001b[0;32m----> 6\u001b[0m entry\u001b[38;5;241m.\u001b[39mappend(roarMap(line))\n",
      "Cell \u001b[0;32mIn[30], line 2\u001b[0m, in \u001b[0;36mroarMap\u001b[0;34m(csv_file)\u001b[0m\n\u001b[1;32m      1\u001b[0m \u001b[38;5;28;01mdef\u001b[39;00m \u001b[38;5;21mroarMap\u001b[39m(csv_file):\n\u001b[0;32m----> 2\u001b[0m     \u001b[38;5;28;01mwith\u001b[39;00m \u001b[38;5;28mopen\u001b[39m(csv_file, \u001b[38;5;124m'\u001b[39m\u001b[38;5;124mr\u001b[39m\u001b[38;5;124m'\u001b[39m) \u001b[38;5;28;01mas\u001b[39;00m f:\n\u001b[1;32m      3\u001b[0m         reader \u001b[38;5;241m=\u001b[39m csv\u001b[38;5;241m.\u001b[39mDictReader(f)\n\u001b[1;32m      4\u001b[0m         \u001b[38;5;28;01mfor\u001b[39;00m row \u001b[38;5;129;01min\u001b[39;00m reader:\n",
      "File \u001b[0;32m/opt/anaconda3/lib/python3.12/site-packages/IPython/core/interactiveshell.py:324\u001b[0m, in \u001b[0;36m_modified_open\u001b[0;34m(file, *args, **kwargs)\u001b[0m\n\u001b[1;32m    317\u001b[0m \u001b[38;5;28;01mif\u001b[39;00m file \u001b[38;5;129;01min\u001b[39;00m {\u001b[38;5;241m0\u001b[39m, \u001b[38;5;241m1\u001b[39m, \u001b[38;5;241m2\u001b[39m}:\n\u001b[1;32m    318\u001b[0m     \u001b[38;5;28;01mraise\u001b[39;00m \u001b[38;5;167;01mValueError\u001b[39;00m(\n\u001b[1;32m    319\u001b[0m         \u001b[38;5;124mf\u001b[39m\u001b[38;5;124m\"\u001b[39m\u001b[38;5;124mIPython won\u001b[39m\u001b[38;5;124m'\u001b[39m\u001b[38;5;124mt let you open fd=\u001b[39m\u001b[38;5;132;01m{\u001b[39;00mfile\u001b[38;5;132;01m}\u001b[39;00m\u001b[38;5;124m by default \u001b[39m\u001b[38;5;124m\"\u001b[39m\n\u001b[1;32m    320\u001b[0m         \u001b[38;5;124m\"\u001b[39m\u001b[38;5;124mas it is likely to crash IPython. If you know what you are doing, \u001b[39m\u001b[38;5;124m\"\u001b[39m\n\u001b[1;32m    321\u001b[0m         \u001b[38;5;124m\"\u001b[39m\u001b[38;5;124myou can use builtins\u001b[39m\u001b[38;5;124m'\u001b[39m\u001b[38;5;124m open.\u001b[39m\u001b[38;5;124m\"\u001b[39m\n\u001b[1;32m    322\u001b[0m     )\n\u001b[0;32m--> 324\u001b[0m \u001b[38;5;28;01mreturn\u001b[39;00m io_open(file, \u001b[38;5;241m*\u001b[39margs, \u001b[38;5;241m*\u001b[39m\u001b[38;5;241m*\u001b[39mkwargs)\n",
      "\u001b[0;31mOSError\u001b[0m: [Errno 63] File name too long: '\"eprintid\",\"rev_number\",\"eprint_status\",\"userid\",\"importid\",\"source\",\"dir\",\"datestamp\",\"lastmod\",\"status_changed\",\"type\",\"succeeds\",\"commentary\",\"metadata_visibility\",\"latitude\",\"longitude\",\"relation_type\",\"relation_uri\",\"item_issues_id\",\"item_issues_type\",\"item_issues_description\",\"item_issues_timestamp\",\"item_issues_status\",\"item_issues_reported_by\",\"item_issues_resolved_by\",\"item_issues_comment\",\"item_issues_count\",\"sword_depositor\",\"sword_slug\",\"exemplar\",\"home_page\",\"title\",\"oai_pmh\",\"sword_endpoint\",\"rss_feed\",\"twitter_feed\",\"description\",\"fulltext\",\"open_access\",\"mandate\",\"organisation_title\",\"organisation_home_page\",\"location_country\",\"location_city\",\"location_latitude\",\"location_longitude\",\"software\",\"geoname\",\"version\",\"subjects\",\"date\",\"note\",\"suggestions\",\"activity_low\",\"activity_medium\",\"activity_high\",\"recordcount\",\"recordhistory\",\"fulltexts_total\",\"fulltexts_docs\",\"fulltexts_rtotal\",\"fulltexts_rdocs\",\"registry_name\",\"registry_id\",\"submit_to\",\"submitted_to_name\",\"submitted_to_done\",\"webometrics_rank\",\"webometrics_size\",\"webometrics_visibility\",\"webometrics_rich_files\",\"webometrics_scholar\",\"monthly_deposits\",\"total_deposits\",\"association\"'"
     ]
    }
   ],
   "source": [
    "entry = ET.Element(\"registryEntries\")\n",
    "\n",
    "for line in lines:\n",
    "    if line == \"\":\n",
    "        continue\n",
    "    entry.append(roarMap(line))"
   ]
  },
  {
   "cell_type": "code",
   "execution_count": null,
   "id": "6ab18648-0537-4327-bc55-aa3936770130",
   "metadata": {},
   "outputs": [],
   "source": [
    "csv_dir = os.path.dirname(csv_file)"
   ]
  },
  {
   "cell_type": "code",
   "execution_count": null,
   "id": "75ebfe43-7106-41af-832f-0db5321ec4e6",
   "metadata": {},
   "outputs": [],
   "source": [
    "fout = open(\"../commonModel/rr.xml\",'w')\n",
    "tree = ET.ElementTree(entry)\n",
    "tree.write(\"../commonModel/rr.xml\")"
   ]
  },
  {
   "cell_type": "code",
   "execution_count": null,
   "id": "06329f3e-0430-4f79-9ba6-407828dc28ac",
   "metadata": {},
   "outputs": [],
   "source": []
  },
  {
   "cell_type": "code",
   "execution_count": null,
   "id": "8c36a3cc-5fa0-4248-8c3a-f06271843282",
   "metadata": {},
   "outputs": [],
   "source": []
  }
 ],
 "metadata": {
  "kernelspec": {
   "display_name": "Python 3 (ipykernel)",
   "language": "python",
   "name": "python3"
  },
  "language_info": {
   "codemirror_mode": {
    "name": "ipython",
    "version": 3
   },
   "file_extension": ".py",
   "mimetype": "text/x-python",
   "name": "python",
   "nbconvert_exporter": "python",
   "pygments_lexer": "ipython3",
   "version": "3.12.4"
  }
 },
 "nbformat": 4,
 "nbformat_minor": 5
}
