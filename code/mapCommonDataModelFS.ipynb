{
 "cells": [
  {
   "cell_type": "code",
   "execution_count": 1,
   "id": "71573be6-22c9-47f5-8817-08bd6fd386eb",
   "metadata": {},
   "outputs": [],
   "source": [
    "import json\n",
    "import xml.etree.cElementTree as ET"
   ]
  },
  {
   "cell_type": "code",
   "execution_count": 2,
   "id": "2ef111fa-557f-4d9c-9d0d-b8266cf5226c",
   "metadata": {
    "scrolled": true
   },
   "outputs": [],
   "source": [
    "fs = open('../data/fairsharing_20230131.json')\n",
    "lines = fs.read().split('\\n')"
   ]
  },
  {
   "cell_type": "code",
   "execution_count": 3,
   "id": "78b0cc1e-867a-4d2c-959f-bf37d023c12f",
   "metadata": {},
   "outputs": [],
   "source": [
    "\n",
    "def fairsharingMap(line):\n",
    "    entry = ET.Element(\"registryEntry\")\n",
    "    dic = json.loads(line)\n",
    "    attributes = dic['attributes']\n",
    "    metadata = attributes['metadata']\n",
    "    if 'doi' in metadata and metadata['doi'] != \"\":\n",
    "        ET.SubElement(entry, \"identifier\", type = \"doi\").text = metadata['doi']\n",
    "    if 'identifier' in metadata and metadata['identifier'] != \"\":\n",
    "        ET.SubElement(entry, 'internalIdentifier').text = str(metadata['identifier'])\n",
    "    if 'name' in metadata and metadata['name'] != '':\n",
    "        ET.SubElement(entry,'name').text = metadata['name']\n",
    "    if 'abbreviation' in metadata and metadata['abbreviation'] != \"\":\n",
    "        ET.SubElement(entry,'additionalName').text = metadata['abbreviation']\n",
    "    if 'homepage' in metadata and metadata['homepage'] != \"\":\n",
    "        ET.SubElement(entry,'url').text = metadata['homepage']\n",
    "    if 'description' in metadata and metadata['description'] != '':\n",
    "        ET.SubElement(entry,'description').text = metadata['description'].strip()\n",
    "    if 'subjects' in attributes:\n",
    "        for sub in attributes['subjects'] :\n",
    "            ET.SubElement(entry,'subject').text = sub\n",
    "    if 'user_defined_tags' in attributes:\n",
    "        for kw in attributes['user_defined_tags'] :\n",
    "            ET.SubElement(entry,'keyword').text = kw\n",
    "    if 'grants' in attributes and attributes['grants'] != []:\n",
    "        for g in attributes['grants']:\n",
    "            if g['saved_state']['name'] != '':\n",
    "                organization = ET.Element(\"organization\")\n",
    "                ET.SubElement(organization,\"name\").text = g['saved_state']['name']\n",
    "                if 'types' in g['saved_state'] and g['saved_state']['types'] != []:\n",
    "                    ET.SubElement(organization,\"type\").text = g['saved_state']['types'][0]\n",
    "                if 'relation' in g['saved_state'] and g['saved_state']['relation'] != '':\n",
    "                    ET.SubElement(organization, \"role\").text = g['saved_state']['relation']\n",
    "                entry.append(organization) #ET.SubElement(entry, organization)\n",
    "    if 'data_versioning' in metadata and metadata['data_versioning'] != '' and metadata['data_versioning'] == 'yes':\n",
    "        ET.SubElement(entry, \"versioning\").text = \"True\" \n",
    "    else :\n",
    "        ET.SubElement(entry, \"versioning\").text = \"False\" \n",
    "    if 'data_access_condition' in metadata and metadata['data_access_condition'] != {} and 'type' in metadata['data_access_condition']:\n",
    "        ac = metadata['data_access_condition']\n",
    "        if 'url' in ac and 'notes' in ac:\n",
    "            ET.SubElement(entry, \"access\", type=ac['type'] , url = ac['url'], restriction = ac['notes']).text = \"dataAccess\"\n",
    "        elif 'url' in ac:\n",
    "            ET.SubElement(entry, \"access\", type=ac['type'] , url = ac['url']).text = \"dataAccess\"\n",
    "        elif 'notes' in ac:\n",
    "            ET.SubElement(entry, \"access\", type=ac['type'] ,restriction = ac['notes']).text = \"dataAccess\"\n",
    "        else:\n",
    "            ET.SubElement(entry, \"access\", type=ac['type']).text = \"dataAccess\"\n",
    "    if 'data_deposition_condition' in metadata and metadata['data_deposition_condition'] != {} and 'type' in metadata['data_deposition_condition']:\n",
    "        ac = metadata['data_deposition_condition']\n",
    "        if 'url' in ac and 'notes' in ac:\n",
    "            ET.SubElement(entry, \"access\", type=ac['type'] , url = ac['url'], restriction = ac['notes']).text = \"dataDeposition\"\n",
    "        elif 'url' in ac:\n",
    "            ET.SubElement(entry, \"access\", type=ac['type'] , url = ac['url']).text = \"dataDeposition\"\n",
    "        elif 'notes' in ac:\n",
    "            ET.SubElement(entry, \"access\", type=ac['type'] ,restriction = ac['notes']).text = \"dataDeposition\"\n",
    "        else:\n",
    "            ET.SubElement(entry, \"access\", type=ac['type'] ).text = \"dataDeposition\"\n",
    "    if 'licence_links' in attributes and attributes['licence_links'] != []:\n",
    "        for lic in attributes['licence_links']:\n",
    "            if 'licence_name' in lic and lic['licence_name'] != '' and 'licence_url' in lic and lic['licence_url'] != '':\n",
    "                ET.SubElement(entry, \"licence\", type = lic['licence_name'], url = lic['licence_url']).text = \"databaseAccess\"\n",
    "    if 'year_creation' in metadata and metadata['year_creation'] != '':\n",
    "        ET.SubElement(entry, 'startDate', format = \"YYYY\").text = str(metadata['year_creation'])\n",
    "    return entry\n",
    "    \n",
    "    "
   ]
  },
  {
   "cell_type": "code",
   "execution_count": 4,
   "id": "454f7eac-ef64-4b55-b54f-eb31c47795fe",
   "metadata": {},
   "outputs": [],
   "source": [
    "entry = ET.Element(\"registryEntries\")\n",
    "\n",
    "for line in lines:\n",
    "    if line == \"\":\n",
    "        continue\n",
    "    entry.append(fairsharingMap(line))\n",
    "\n",
    "fout = open(\"../commonModel/fs.xml\",'w')\n",
    "tree = ET.ElementTree(entry)\n",
    "tree.write(\"../commonModel/fs.xml\")"
   ]
  },
  {
   "cell_type": "code",
   "execution_count": null,
   "id": "665a9707-e47b-4b98-a92a-5fd732a68412",
   "metadata": {},
   "outputs": [],
   "source": []
  }
 ],
 "metadata": {
  "kernelspec": {
   "display_name": "Python 3 (ipykernel)",
   "language": "python",
   "name": "python3"
  },
  "language_info": {
   "codemirror_mode": {
    "name": "ipython",
    "version": 3
   },
   "file_extension": ".py",
   "mimetype": "text/x-python",
   "name": "python",
   "nbconvert_exporter": "python",
   "pygments_lexer": "ipython3",
   "version": "3.12.3"
  }
 },
 "nbformat": 4,
 "nbformat_minor": 5
}
