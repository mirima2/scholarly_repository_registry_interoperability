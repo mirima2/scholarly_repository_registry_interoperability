{
 "cells": [
  {
   "cell_type": "code",
   "execution_count": 3,
   "id": "1b655106-dd56-4f7f-abb9-9cf6b08b4101",
   "metadata": {},
   "outputs": [
    {
     "name": "stdout",
     "output_type": "stream",
     "text": [
      "RRID\n",
      "SCR_010479\n"
     ]
    }
   ],
   "source": [
    "ex = \"RRID:SCR_010479\"\n",
    "id = ex.find(\":\")\n",
    "print(ex[0:id])\n",
    "print(ex[id+1:])"
   ]
  },
  {
   "cell_type": "code",
   "execution_count": 81,
   "id": "a89538f1-b386-48e1-9769-66b69e72d9bf",
   "metadata": {},
   "outputs": [],
   "source": [
    "import glob\n",
    "import xml.etree.ElementTree as ET\n",
    "\n",
    "def mapEntry(repo):\n",
    "    root = ET.parse(repo).getroot()\n",
    "    id = root.find('.//{http://www.re3data.org/schema/2-2}re3data.orgIdentifier')\n",
    "    if id is None or id.text == '':\n",
    "        return None\n",
    "    entry = ET.Element(\"registryEntry\")\n",
    "    ET.SubElement(entry, 'internalIdentifier').text = id.text\n",
    "    name =  root.find('.//{http://www.re3data.org/schema/2-2}repositoryName')\n",
    "    if not name is None :\n",
    "        if name.text != '':\n",
    "            if 'language' in name.attrib and name.attrib['language']!= '':\n",
    "                ET.SubElement(entry, \"name\", nameLanguage = name.attrib['language'], languageVocabulary = \"ISO 639-2\").text = name.text\n",
    "            else:\n",
    "                ET.SubElement(entry, \"name\").text = name.text\n",
    "    additionalname = root.find('.//{http://www.re3data.org/schema/2-2}additionalName')\n",
    "    if not additionalname is None:\n",
    "        if additionalname.text != '':\n",
    "            if 'language' in additionalname.attrib and additionalname.attrib['language'] != '':\n",
    "                ET.SubElement(entry, \"name\", nameLanguage = additionalname.attrib['language'], languageVocabulary = \"ISO 639-2\").text = additionalname.text\n",
    "            else:\n",
    "                ET.SubElement(entry,'additionalName').text = additionalname.text\n",
    "    repoUrl = root.find('.//{http://www.re3data.org/schema/2-2}repositoryURL')\n",
    "    if not repoUrl is None and repoUrl.text != '':\n",
    "        ET.SubElement(entry,'url').text = repoUrl.text\n",
    "    type = root.find('.//{http://www.re3data.org/schema/2-2}type')\n",
    "    if not type is None and type.text != '':\n",
    "        ET.SubElement(entry,'type').text = type.text\n",
    "    dex =  root.find('.//{http://www.re3data.org/schema/2-2}description')\n",
    "    if not dex is None and dex.text != '':\n",
    "        ET.SubElement(entry,'description').text = dex.text\n",
    "    ctype = root.findall('.//{http://www.re3data.org/schema/2-2}contentType')\n",
    "    if len( ctype ) > 0:\n",
    "        for ct in ctype:\n",
    "            ET.SubElement(entry,'content').text = ct.text\n",
    "    repoId =  root.findall('.//{http://www.re3data.org/schema/2-2}repositoryIdentifier')\n",
    "    if len( repoId ) > 0 :\n",
    "        for repo in repoId:\n",
    "            splitIndex  = repo.text.find(':')\n",
    "            pid = repo.text[0:splitIndex]\n",
    "            value = repo.text[splitIndex+1:]\n",
    "            ET.SubElement(entry, \"identifier\", type = pid).text = value\n",
    "    subjs = root.findall('.//{http://www.re3data.org/schema/2-2}subject')\n",
    "    if len(subjs) > 0:\n",
    "        for s in subjs:\n",
    "            if s.text != '':\n",
    "                if 'subjectScheme' in s.attrib:\n",
    "                    ET.SubElement(entry,'subject', scheme=s.attrib['subjectScheme']).text = s.text\n",
    "                else:\n",
    "                    ET.SubElement(entry,'subject').text = s.text\n",
    "    kws = root.findall('.//{http://www.re3data.org/schema/2-2}keyword')\n",
    "    if len(kws) > 0:\n",
    "        for k in kws:\n",
    "            if k.text != '':\n",
    "                ET.SubElement(entry,'keyword').text = k.text           \n",
    "    ists = root.findall('.//{http://www.re3data.org/schema/2-2}institution')\n",
    "    \n",
    "    if len(ists) > 0:\n",
    "\n",
    "        for i in ists:\n",
    "            iname = i.find('.//{http://www.re3data.org/schema/2-2}institutionName') \n",
    "            if iname is not None:\n",
    "                if iname.text != '':\n",
    "                    organization = ET.Element(\"organization\")\n",
    "                    if 'language' in iname.attrib and iname.attrib['language'] != '':\n",
    "                        ET.SubElement(organization,\"name\", nameLanguage = iname.attrib['language'], languageVocabulary = \"ISO 639-2\").text = iname.text\n",
    "                    else:\n",
    "                        ET.SubElement(organization,\"name\").text = iname.text\n",
    "                    country = i.find('.//{http://www.re3data.org/schema/2-2}institutionCountry')\n",
    "                    if  country is not None and  country.text != '':\n",
    "                        ET.SubElement(organization,\"country\").text = country.text\n",
    "                    homepage = i.find('.//{http://www.re3data.org/schema/2-2}institutionURL')\n",
    "                    if homepage is not None and homepage.text != '':\n",
    "                        ET.SubElement(organization,\"organizationUrl\").text = homepage.text\n",
    "                    identifiers = i.findall('.//{http://www.re3data.org/schema/2-2}institutionIdentifier')\n",
    "                    if len(identifiers) > 0:\n",
    "                        for identifier in identifiers:\n",
    "                            if identifier is not None and identifier.text != '':\n",
    "                                if identifier.text.find(':') > -1:\n",
    "                                    ET.SubElement(organization,\"id\", type = identifier.text.split(':')[0]).text = identifier.text.split(':')[1]\n",
    "                                else:\n",
    "                                    ET.SubElement(organization,\"id\").text = identifier.text.split(':')[1]\n",
    "            entry.append(organization)\n",
    "        \n",
    "    software = root.findall('.//{http://www.re3data.org/schema/2-2}software')\n",
    "    if len(software) > 0:\n",
    "        for s in software:\n",
    "            if s.find('.//{http://www.re3data.org/schema/2-2}softwareName') is not None and s.find('.//{http://www.re3data.org/schema/2-2}softwareName').text != '':\n",
    "                ET.SubElement(entry,'softwareName').text = s.find('.//{http://www.re3data.org/schema/2-2}softwareName').text \n",
    "        \n",
    "    versioning = root.find('.//{http://www.re3data.org/schema/2-2}versioning')\n",
    "    if versioning is not None and versioning.text != '':\n",
    "        ET.SubElement(entry, \"versioning\").text = \"True\" \n",
    "    api = root.findall('.//{http://www.re3data.org/schema/2-2}api')\n",
    "    if len(api) > 0:\n",
    "        for a in api:\n",
    "            if a.text != '':\n",
    "                if 'apiType' in a.attrib and a.attrib['apiType'] != '':\n",
    "                    ET.SubElement(entry,'apiUrl', type=a.attrib['apiType']).text = a.text\n",
    "                    break\n",
    "\n",
    "    startDate = root.find('.//{http://www.re3data.org/schema/2-2}startDate')\n",
    "    if not startDate is None and not startDate.text is None and startDate.text != '':\n",
    "        if len(startDate.text) == 4 :\n",
    "            dateFormat = \"yyyy\"\n",
    "        else:\n",
    "            dateFormat = \"yyyy-MM-dd\"\n",
    "        ET.SubElement(entry, 'startDate', format = dateFormat).text = startDate.text.split(\" \")[0]\n",
    "    lastUpdate = root.find('.//{http://www.re3data.org/schema/2-2}lastUpdate')\n",
    "    if not lastUpdate is None and lastUpdate.text != '':\n",
    "        ET.SubElement(entry, 'updateDate', format = \"yyyy-MM-dd\").text = lastUpdate.text.split(\" \")[0]\n",
    "\n",
    "    #this should be changed in the model. It should be <policy><policyName><policyUrl> \n",
    "    policy = root.findall('.//{http://www.re3data.org/schema/2-2}policy')\n",
    "    if len(policy) > 0:\n",
    "        for p in policy:\n",
    "            if not p is None and p.find('.//{http://www.re3data.org/schema/2-2}policyUrl') is not None :\n",
    "                ET.SubElement(entry, 'policyUrl').text = p.find('.//{http://www.re3data.org/schema/2-2}policyUrl').text\n",
    "    \n",
    "    dbAccess = root.find('.//{http://www.re3data.org/schema/2-2}databaseAccess')\n",
    "    if dbAccess is not None :  \n",
    "        if dbAccess.find('.//{http://www.re3data.org/schema/2-2}databaseAccessType').text !='' :\n",
    "            if dbAccess.find('.//{http://www.re3data.org/schema/2-2}databaseAccessRestriction') is not None :\n",
    "                ET.SubElement(entry, \"access\", type=dbAccess.find('.//{http://www.re3data.org/schema/2-2}databaseAccessType').text ,  restriction=dbAccess.find('.//{http://www.re3data.org/schema/2-2}databaseAccessRestriction') .text).text = \"databaseAccess\"\n",
    "            else:\n",
    "                ET.SubElement(entry, \"access\", type=dbAccess.find('.//{http://www.re3data.org/schema/2-2}databaseAccessType').text ).text = \"databaseAccess\"\n",
    "            \n",
    "    dataUpload = root.find('.//{http://www.re3data.org/schema/2-2}dataUpload')\n",
    "    if dataUpload is not None:\n",
    "        if dataUpload.find('.//{http://www.re3data.org/schema/2-2}dataUploadType').text == '':\n",
    "            if dataUpload.find('.//{http://www.re3data.org/schema/2-2}dataUploadRestriction') is not None :\n",
    "                ET.SubElement(entry, \"access\", type=dataUpload.find('.//{http://www.re3data.org/schema/2-2}dataUploadType').text ,  restriction=dataUpload.find('.//{http://www.re3data.org/schema/2-2}dataUploadRestriction') .text).text = \"dataUpload\"\n",
    "            else:\n",
    "                ET.SubElement(entry, \"access\", type=dataUpload.find('.//{http://www.re3data.org/schema/2-2}dataUploadType').text ).text = \"dataUpload\"\n",
    "                \n",
    "    dbLicenses = root.findall('.//{http://www.re3data.org/schema/2-2}databaseLicense')\n",
    "    if not dbLicenses is None:\n",
    "        for dbLicense in dbLicenses:\n",
    "            ET.SubElement(entry, \"licence\", type = dbLicense.find('.//{http://www.re3data.org/schema/2-2}databaseLicenseName').text, url = dbLicense.find('.//{http://www.re3data.org/schema/2-2}databaseLicenseURL').text).text = \"databaseLicence\"\n",
    "\n",
    "    dataLicences = root.findall('.//{http://www.re3data.org/schema/2-2}dataLicense')\n",
    "    if dataLicences is not None:\n",
    "        for dataLicence in dataLicences:\n",
    "            if dataLicence is not None and dataLicence.find('.//{http://www.re3data.org/schema/2-2}dataLicenseName') is not None and dataLicence.find('.//{http://www.re3data.org/schema/2-2}dataLicenseURL') is not None:\n",
    "                ET.SubElement(entry, \"licence\", type = dataLicence.find('.//{http://www.re3data.org/schema/2-2}dataLicenseName').text, url = dataLicence.find('.//{http://www.re3data.org/schema/2-2}dataLicenseURL').text).text = \"dataLicence\"\n",
    "    return entry\n",
    "\n",
    "\n"
   ]
  },
  {
   "cell_type": "code",
   "execution_count": 84,
   "id": "2796087c-e943-4a21-8094-16cc623407cd",
   "metadata": {},
   "outputs": [
    {
     "name": "stdout",
     "output_type": "stream",
     "text": [
      "error on ../data/re3dataRecords/r3d100013143.xml\n"
     ]
    }
   ],
   "source": [
    "repo_list = glob.glob('../data/re3dataRecords/*.xml')\n",
    "\n",
    "entries = ET.Element(\"registryEntries\")\n",
    "\n",
    "\n",
    "for repo in repo_list:\n",
    "    try:\n",
    "        entries.append(mapEntry(repo))\n",
    "    except:\n",
    "        print(\"error on \" + repo)\n",
    "        break\n",
    "\n",
    "tree = ET.ElementTree(entries)\n",
    "tree.write(\"../commonModel/r3d.xml\")"
   ]
  },
  {
   "cell_type": "code",
   "execution_count": 85,
   "id": "5f5e0975-2dd7-4325-9d63-7fe60c38ab28",
   "metadata": {},
   "outputs": [
    {
     "ename": "IndexError",
     "evalue": "list index out of range",
     "output_type": "error",
     "traceback": [
      "\u001b[0;31m---------------------------------------------------------------------------\u001b[0m",
      "\u001b[0;31mIndexError\u001b[0m                                Traceback (most recent call last)",
      "Cell \u001b[0;32mIn[85], line 1\u001b[0m\n\u001b[0;32m----> 1\u001b[0m ret  \u001b[38;5;241m=\u001b[39m \u001b[43mmapEntry\u001b[49m\u001b[43m(\u001b[49m\u001b[38;5;124;43m'\u001b[39;49m\u001b[38;5;124;43m../data/re3dataRecords/r3d100013143.xml\u001b[39;49m\u001b[38;5;124;43m'\u001b[39;49m\u001b[43m)\u001b[49m\n\u001b[1;32m      2\u001b[0m \u001b[38;5;66;03m# tree = ET.ElementTree(ret)\u001b[39;00m\n\u001b[1;32m      3\u001b[0m \u001b[38;5;66;03m# tree.write(\"../r3d_first.xml\")\u001b[39;00m\n",
      "Cell \u001b[0;32mIn[81], line 81\u001b[0m, in \u001b[0;36mmapEntry\u001b[0;34m(repo)\u001b[0m\n\u001b[1;32m     79\u001b[0m                     \u001b[38;5;28;01mfor\u001b[39;00m identifier \u001b[38;5;129;01min\u001b[39;00m identifiers:\n\u001b[1;32m     80\u001b[0m                         \u001b[38;5;28;01mif\u001b[39;00m identifier \u001b[38;5;129;01mis\u001b[39;00m \u001b[38;5;129;01mnot\u001b[39;00m \u001b[38;5;28;01mNone\u001b[39;00m \u001b[38;5;129;01mand\u001b[39;00m identifier\u001b[38;5;241m.\u001b[39mtext \u001b[38;5;241m!=\u001b[39m \u001b[38;5;124m'\u001b[39m\u001b[38;5;124m'\u001b[39m:\n\u001b[0;32m---> 81\u001b[0m                             ET\u001b[38;5;241m.\u001b[39mSubElement(organization,\u001b[38;5;124m\"\u001b[39m\u001b[38;5;124mid\u001b[39m\u001b[38;5;124m\"\u001b[39m, \u001b[38;5;28mtype\u001b[39m \u001b[38;5;241m=\u001b[39m identifier\u001b[38;5;241m.\u001b[39mtext\u001b[38;5;241m.\u001b[39msplit(\u001b[38;5;124m'\u001b[39m\u001b[38;5;124m:\u001b[39m\u001b[38;5;124m'\u001b[39m)[\u001b[38;5;241m0\u001b[39m])\u001b[38;5;241m.\u001b[39mtext \u001b[38;5;241m=\u001b[39m \u001b[43midentifier\u001b[49m\u001b[38;5;241;43m.\u001b[39;49m\u001b[43mtext\u001b[49m\u001b[38;5;241;43m.\u001b[39;49m\u001b[43msplit\u001b[49m\u001b[43m(\u001b[49m\u001b[38;5;124;43m'\u001b[39;49m\u001b[38;5;124;43m:\u001b[39;49m\u001b[38;5;124;43m'\u001b[39;49m\u001b[43m)\u001b[49m\u001b[43m[\u001b[49m\u001b[38;5;241;43m1\u001b[39;49m\u001b[43m]\u001b[49m\n\u001b[1;32m     82\u001b[0m         entry\u001b[38;5;241m.\u001b[39mappend(organization)\n\u001b[1;32m     84\u001b[0m software \u001b[38;5;241m=\u001b[39m root\u001b[38;5;241m.\u001b[39mfindall(\u001b[38;5;124m'\u001b[39m\u001b[38;5;124m.//\u001b[39m\u001b[38;5;124m{\u001b[39m\u001b[38;5;124mhttp://www.re3data.org/schema/2-2}software\u001b[39m\u001b[38;5;124m'\u001b[39m)\n",
      "\u001b[0;31mIndexError\u001b[0m: list index out of range"
     ]
    }
   ],
   "source": [
    "ret  = mapEntry('../data/re3dataRecords/r3d100013143.xml')\n",
    "# tree = ET.ElementTree(ret)\n",
    "# tree.write(\"../r3d_first.xml\")"
   ]
  },
  {
   "cell_type": "code",
   "execution_count": 83,
   "id": "01cc547b-e0b2-4478-b5f1-7091cf8d9e53",
   "metadata": {},
   "outputs": [
    {
     "name": "stdout",
     "output_type": "stream",
     "text": [
      "<registryEntry><internalIdentifier>r3d100011797</internalIdentifier><name nameLanguage=\"eng\" languageVocabulary=\"ISO 639-2\">Center for Engineering Strong Motion Data</name><name nameLanguage=\"eng\" languageVocabulary=\"ISO 639-2\">CESMD</name><url>https://www.strongmotioncenter.org/</url><type>disciplinary</type><description>Strong-motion data of engineering and scientific importance from the United States and other seismically active \n",
      "countries are served through the Center for Engineering Strong Motion Data(CESMD). The CESMD now automatically posts strong-motion data from an increasing number of seismic stations in California within a few minutes following an earthquake as an InternetQuick Report(IQR). As appropriate,IQRs are updated by more comprehensive Internet Data Reports that include reviewed versions of the data and maps showing, for example, the finite fault rupture along with the distribution of recording stations. Automated processing of strong-motion data will be extended to post the strong-motion records of the regional seismic networks of the Advanced National Seismic System (ANSS) outside California.</description><content>Images</content><content>Raw data</content><content>Scientific and statistical data formats</content><content>Source code</content><content>Standard office documents</content><content>Structured graphics</content><content>Structured text</content><subject scheme=\"DFG\">3 Natural Sciences</subject><subject scheme=\"DFG\">315 Geophysics and Geodesy</subject><subject scheme=\"DFG\">34 Geosciences (including Geography)</subject><keyword>ShakeMap</keyword><keyword>accelerogram</keyword><keyword>earthquake</keyword><keyword>historical earthquakes</keyword><keyword>seismology</keyword><keyword>strong motion</keyword><keyword>strong motion stations</keyword><organization><name nameLanguage=\"eng\" languageVocabulary=\"ISO 639-2\">California Geological Survey</name><country>USA</country><organizationUrl>http://www.consrv.ca.gov/CGS/</organizationUrl></organization><organization><name nameLanguage=\"eng\" languageVocabulary=\"ISO 639-2\">Consortium of Organizations for Strong Motion Observation Systems</name><country>USA</country><organizationUrl>https://www.strongmotion.org/</organizationUrl></organization><organization><name nameLanguage=\"eng\" languageVocabulary=\"ISO 639-2\">National Earthquake Hazards Program, Advanced National Seismic System</name><country>USA</country><organizationUrl>https://www.usgs.gov/natural-hazards/earthquake-hazards/anss-advanced-national-seismic-system?qt-science_support_page_related_con=4#qt-science_support_page_related_con</organizationUrl></organization><organization><name nameLanguage=\"eng\" languageVocabulary=\"ISO 639-2\">U.S. Geological Survey</name><country>USA</country><organizationUrl>https://www.usgs.gov/</organizationUrl><id type=\"ROR\">035a68863</id></organization><softwareName>unknown</softwareName><versioning>True</versioning><apiUrl type=\"FTP\">ftp://140.174.65.75/Small_Record_and_Earthquakes/</apiUrl><updateDate format=\"yyyy-MM-dd\">2021-09-21</updateDate><access type=\"open\">databaseAccess</access><licence type=\"other\" url=\"http://www.strongmotioncenter.org/NCESMD/reports/02-0168.pdf\">dataLicence</licence></registryEntry>\n"
     ]
    }
   ],
   "source": [
    "ET.dump(ret)"
   ]
  },
  {
   "cell_type": "code",
   "execution_count": 59,
   "id": "a4c70455-1459-4885-a187-0ddbed524154",
   "metadata": {},
   "outputs": [],
   "source": [
    "root = ET.parse('../data/re3dataRecords/r3d100010489.xml').getroot()"
   ]
  },
  {
   "cell_type": "code",
   "execution_count": null,
   "id": "cd462824-0059-4f29-bb5d-8d825ff2dd9b",
   "metadata": {},
   "outputs": [],
   "source": []
  }
 ],
 "metadata": {
  "kernelspec": {
   "display_name": "Python 3 (ipykernel)",
   "language": "python",
   "name": "python3"
  },
  "language_info": {
   "codemirror_mode": {
    "name": "ipython",
    "version": 3
   },
   "file_extension": ".py",
   "mimetype": "text/x-python",
   "name": "python",
   "nbconvert_exporter": "python",
   "pygments_lexer": "ipython3",
   "version": "3.12.3"
  }
 },
 "nbformat": 4,
 "nbformat_minor": 5
}
