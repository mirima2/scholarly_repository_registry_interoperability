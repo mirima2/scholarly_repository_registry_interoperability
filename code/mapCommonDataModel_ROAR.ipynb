{
 "cells": [
  {
   "cell_type": "code",
   "execution_count": 12,
   "id": "7ae3fc93-fd60-4328-a829-92c0bb1ffb7f",
   "metadata": {},
   "outputs": [],
   "source": [
    "\n",
    "import xml.etree.cElementTree as ET\n",
    "\n"
   ]
  },
  {
   "cell_type": "code",
   "execution_count": 11,
   "id": "f45f0e09-9695-4888-a977-a7b1174c2a12",
   "metadata": {},
   "outputs": [],
   "source": [
    "import pandas as pd\n",
    "\n",
    "csv = pd.read_csv('../data/export_roar_CSV_20230131.csv', low_memory = False)\n",
    "entries = ET.Element(\"registryEntries\")\n",
    "\n",
    "for value in csv.values:\n",
    "    if pd.isna(value[1]):\n",
    "        continue\n",
    "    entry = ET.Element(\"registryEntry\")\n",
    "    if not pd.isna(value[0]):\n",
    "        ET.SubElement(entry, 'internalIdentifier').text = str(value[0])\n",
    "    #Generality\n",
    "\n",
    "    if not(pd.isna(value[31])):\n",
    "        ET.SubElement(entry,'name').text = str(value[31])\n",
    "    if not pd.isna(value[30]):\n",
    "        ET.SubElement(entry,'url').text = str(value[30])\n",
    "    if not pd.isna(value[10]):\n",
    "        ET.SubElement(entry,'type').text = str(value[10])\n",
    "    if not pd.isna(value[36]):\n",
    "        ET.SubElement(entry,'description').text = str(value[36]).strip()\n",
    "    if not pd.isna(value[56]):\n",
    "        ET.SubElement(entry,'recordCount').text = str(value[56])\n",
    "    \n",
    "    #Content classification\n",
    "    if not pd.isna(value[49]):\n",
    "        subjects_list = value[49].split(',')\n",
    "        for sub in subjects_list:\n",
    "            ET.SubElement(entry, 'subject').text = sub.strip()\n",
    "            \n",
    "    #Organization\n",
    "    if not(pd.isna(value[40])):\n",
    "        organization = ET.Element(\"organization\")\n",
    "        ET.SubElement(organization,\"name\").text = value[40]\n",
    "        if not pd.isna(value[42]):\n",
    "            ET.SubElement(organization, 'country').text = value[42]\n",
    "        if not pd.isna(value[41]):\n",
    "            ET.SubElement(organization, 'organizationUrl').text = value[41]\n",
    "        entry.append(organization) #ET.SubElement(entry, organization)\n",
    "\n",
    "    #Technical Info\n",
    "    if not pd.isna(value[46]):\n",
    "        ET.SubElement(entry,'softwareName').text = str(value[46])\n",
    "    if not pd.isna(value[32]):\n",
    "        ET.SubElement(entry,'apiUrl').text = str(value[32])\n",
    "    #Dates and times\n",
    "    if not pd.isna(value[50]):\n",
    "        ET.SubElement(entry,'startDate', format = \"yyyy-MM-dd\").text = str(value[50].split(\" \")[0])\n",
    "    if not pd.isna(value[8]):\n",
    "        ET.SubElement(entry,'updateDate', format = \"yyyy-MM-dd\").text = str(value[8].split(\" \")[0])\n",
    "\n",
    "    entries.append(entry)\n",
    "\n",
    "                "
   ]
  },
  {
   "cell_type": "code",
   "execution_count": 13,
   "id": "75ebfe43-7106-41af-832f-0db5321ec4e6",
   "metadata": {},
   "outputs": [],
   "source": [
    "fout = open(\"../commonModel/rr.xml\",'w')\n",
    "tree = ET.ElementTree(entries)\n",
    "tree.write(\"../commonModel/rr.xml\")"
   ]
  },
  {
   "cell_type": "code",
   "execution_count": null,
   "id": "06329f3e-0430-4f79-9ba6-407828dc28ac",
   "metadata": {},
   "outputs": [],
   "source": []
  },
  {
   "cell_type": "code",
   "execution_count": null,
   "id": "8c36a3cc-5fa0-4248-8c3a-f06271843282",
   "metadata": {},
   "outputs": [],
   "source": []
  }
 ],
 "metadata": {
  "kernelspec": {
   "display_name": "Python 3 (ipykernel)",
   "language": "python",
   "name": "python3"
  },
  "language_info": {
   "codemirror_mode": {
    "name": "ipython",
    "version": 3
   },
   "file_extension": ".py",
   "mimetype": "text/x-python",
   "name": "python",
   "nbconvert_exporter": "python",
   "pygments_lexer": "ipython3",
   "version": "3.12.3"
  }
 },
 "nbformat": 4,
 "nbformat_minor": 5
}
